{
  "nbformat": 4,
  "nbformat_minor": 0,
  "metadata": {
    "colab": {
      "provenance": []
    },
    "kernelspec": {
      "name": "python3",
      "display_name": "Python 3"
    },
    "language_info": {
      "name": "python"
    }
  },
  "cells": [
    {
      "cell_type": "code",
      "execution_count": 1,
      "metadata": {
        "id": "zR29JJPUYFFQ"
      },
      "outputs": [],
      "source": [
        " import numpy as np\n",
        " from tensorflow.keras.models import Sequential\n",
        " from tensorflow.keras.layers import SimpleRNN, Dense\n",
        " from tensorflow.keras.utils import to_categorical"
      ]
    },
    {
      "cell_type": "code",
      "source": [
        " text = \"Hello World! Welcome to RNNs.\"\n"
      ],
      "metadata": {
        "id": "hOl-UWlcYYHt"
      },
      "execution_count": 2,
      "outputs": []
    },
    {
      "cell_type": "code",
      "source": [
        "chars = sorted(list(set(text)))  # Unique characters\n",
        "char_to_index = {c: i for i, c in enumerate(chars)}\n",
        "index_to_char = {i: c for i, c in enumerate(chars)}"
      ],
      "metadata": {
        "id": "Zz0p80v3Y0v6"
      },
      "execution_count": 4,
      "outputs": []
    },
    {
      "cell_type": "code",
      "source": [
        "sequence_length = 10\n",
        "sequences = []\n",
        "next_chars = []\n",
        "for i in range(len(text) - sequence_length):\n",
        " sequences.append(text[i:i + sequence_length])\n",
        " next_chars.append(text[i + sequence_length])"
      ],
      "metadata": {
        "id": "VKQz6d3KY20R"
      },
      "execution_count": 7,
      "outputs": []
    },
    {
      "cell_type": "code",
      "source": [
        "X = np.zeros((len(sequences), sequence_length, len(chars)), dtype=np.float32)\n",
        "y = np.zeros((len(sequences), len(chars)), dtype=np.float32)\n",
        "for i, seq in enumerate(sequences):\n",
        " for t, char in enumerate(seq):\n",
        "  X[i, t, char_to_index[char]] = 1\n",
        "  y[i, char_to_index[next_chars[i]]] = 1"
      ],
      "metadata": {
        "id": "ZMakjjA3Y7TN"
      },
      "execution_count": 9,
      "outputs": []
    },
    {
      "cell_type": "code",
      "source": [
        " model = Sequential([\n",
        " SimpleRNN(128, input_shape=(sequence_length, len(chars))),\n",
        " Dense(len(chars), activation='softmax')\n",
        " ])"
      ],
      "metadata": {
        "colab": {
          "base_uri": "https://localhost:8080/"
        },
        "id": "tEnqYP1IY_ws",
        "outputId": "63556860-706d-48bd-f81c-4e4576030808"
      },
      "execution_count": 10,
      "outputs": [
        {
          "output_type": "stream",
          "name": "stderr",
          "text": [
            "/usr/local/lib/python3.10/dist-packages/keras/src/layers/rnn/rnn.py:204: UserWarning: Do not pass an `input_shape`/`input_dim` argument to a layer. When using Sequential models, prefer using an `Input(shape)` object as the first layer in the model instead.\n",
            "  super().__init__(**kwargs)\n"
          ]
        }
      ]
    },
    {
      "cell_type": "code",
      "source": [
        " model.compile(optimizer='adam', loss='categorical_crossentropy', metrics=['accuracy'])\n"
      ],
      "metadata": {
        "id": "DFeVmhqFZGxF"
      },
      "execution_count": 11,
      "outputs": []
    },
    {
      "cell_type": "code",
      "source": [
        " model.fit(X, y, epochs=5, batch_size=64)\n"
      ],
      "metadata": {
        "colab": {
          "base_uri": "https://localhost:8080/"
        },
        "id": "nMxHpC9wZJj4",
        "outputId": "0542e2be-f97b-4e0f-c396-166dd4df56db"
      },
      "execution_count": 13,
      "outputs": [
        {
          "output_type": "stream",
          "name": "stdout",
          "text": [
            "Epoch 1/5\n",
            "\u001b[1m1/1\u001b[0m \u001b[32m━━━━━━━━━━━━━━━━━━━━\u001b[0m\u001b[37m\u001b[0m \u001b[1m0s\u001b[0m 33ms/step - accuracy: 1.0000 - loss: 0.3048\n",
            "Epoch 2/5\n",
            "\u001b[1m1/1\u001b[0m \u001b[32m━━━━━━━━━━━━━━━━━━━━\u001b[0m\u001b[37m\u001b[0m \u001b[1m0s\u001b[0m 32ms/step - accuracy: 1.0000 - loss: 0.2648\n",
            "Epoch 3/5\n",
            "\u001b[1m1/1\u001b[0m \u001b[32m━━━━━━━━━━━━━━━━━━━━\u001b[0m\u001b[37m\u001b[0m \u001b[1m0s\u001b[0m 29ms/step - accuracy: 1.0000 - loss: 0.2306\n",
            "Epoch 4/5\n",
            "\u001b[1m1/1\u001b[0m \u001b[32m━━━━━━━━━━━━━━━━━━━━\u001b[0m\u001b[37m\u001b[0m \u001b[1m0s\u001b[0m 58ms/step - accuracy: 1.0000 - loss: 0.2014\n",
            "Epoch 5/5\n",
            "\u001b[1m1/1\u001b[0m \u001b[32m━━━━━━━━━━━━━━━━━━━━\u001b[0m\u001b[37m\u001b[0m \u001b[1m0s\u001b[0m 32ms/step - accuracy: 1.0000 - loss: 0.1764\n"
          ]
        },
        {
          "output_type": "execute_result",
          "data": {
            "text/plain": [
              "<keras.src.callbacks.history.History at 0x79d3715af040>"
            ]
          },
          "metadata": {},
          "execution_count": 13
        }
      ]
    },
    {
      "cell_type": "code",
      "source": [
        " def generate_text(seed, length=50):\n",
        "    generated_text = seed\n",
        "    for _ in range(length):\n",
        "        x_pred = np.zeros((1, sequence_length, len(chars)))\n",
        "        for t, char in enumerate(seed):\n",
        "            x_pred[0, t, char_to_index[char]] = 1\n",
        "\n",
        "        predictions = model.predict(x_pred, verbose=0)[0]\n",
        "        next_index = np.argmax(predictions)\n",
        "        next_char = index_to_char[next_index]\n",
        "\n",
        "        seed = seed[1:] + next_char  # Slide the window\n",
        "        generated_text += next_char\n",
        "    return generated_text"
      ],
      "metadata": {
        "id": "0QQY-dGsZLsB"
      },
      "execution_count": 16,
      "outputs": []
    },
    {
      "cell_type": "code",
      "source": [
        " seed_text = \"Hello Worl\"\n",
        " print(\"Generated Text:\")\n",
        " print(generate_text(seed_text))"
      ],
      "metadata": {
        "colab": {
          "base_uri": "https://localhost:8080/"
        },
        "id": "eRKZec4SZV0B",
        "outputId": "56033175-e8a8-4dfa-9ed8-25e0c5d674fc"
      },
      "execution_count": 17,
      "outputs": [
        {
          "output_type": "stream",
          "name": "stdout",
          "text": [
            "Generated Text:\n",
            "Hello World! Welcome to RNNs.!lWelcome to RNNs.!lWelcome to \n"
          ]
        }
      ]
    },
    {
      "cell_type": "code",
      "source": [],
      "metadata": {
        "id": "cCOGVcN7ZoBC"
      },
      "execution_count": null,
      "outputs": []
    }
  ]
}