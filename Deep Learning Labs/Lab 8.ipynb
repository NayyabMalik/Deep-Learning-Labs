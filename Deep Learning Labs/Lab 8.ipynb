{
  "nbformat": 4,
  "nbformat_minor": 0,
  "metadata": {
    "colab": {
      "provenance": []
    },
    "kernelspec": {
      "name": "python3",
      "display_name": "Python 3"
    },
    "language_info": {
      "name": "python"
    }
  },
  "cells": [
    {
      "cell_type": "code",
      "source": [
        "import torch\n",
        "import torch.nn as nn\n",
        "import torch.optim as optim\n",
        "from torchvision import datasets, transforms\n",
        "from torch.utils.data import DataLoader\n",
        "import numpy as np\n",
        "import matplotlib.pyplot as plt"
      ],
      "metadata": {
        "id": "H4Em-gDwDLC1"
      },
      "execution_count": null,
      "outputs": []
    },
    {
      "cell_type": "code",
      "source": [
        "class MNISTWithBoundingBoxes:\n",
        "    def __init__(self, train=True):\n",
        "        self.dataset = datasets.MNIST(\n",
        "            root='./data',\n",
        "            train=train,\n",
        "            download=True,\n",
        "            transform=transforms.ToTensor()\n",
        "        )\n",
        "\n",
        "    def __getitem__(self, idx):\n",
        "        img, label = self.dataset[idx]\n",
        "        img_np = img.squeeze(0).numpy()  # Convert to numpy for bbox calculation\n",
        "\n",
        "        # Calculate the bounding box for the digit\n",
        "        rows, cols = np.where(img_np > 0)\n",
        "        y_min, x_min = rows.min(), cols.min()\n",
        "        y_max, x_max = rows.max(), cols.max()\n",
        "\n",
        "        # Normalize the bounding box coordinates\n",
        "        bbox = torch.tensor([x_min / 28, y_min / 28, x_max / 28, y_max / 28], dtype=torch.float32)\n",
        "\n",
        "        return img, label, bbox\n",
        "\n",
        "    def __len__(self):\n",
        "        return len(self.dataset)\n",
        " # Initialize DataLoaders\n",
        "train_dataset = MNISTWithBoundingBoxes(train=True)\n",
        "test_dataset = MNISTWithBoundingBoxes(train=False)\n",
        "train_loader = DataLoader(train_dataset, batch_size=32, shuffle=True)\n",
        "test_loader = DataLoader(test_dataset, batch_size=32, shuffle=False)"
      ],
      "metadata": {
        "colab": {
          "base_uri": "https://localhost:8080/"
        },
        "id": "TyazgtVWCbFi",
        "outputId": "a80df51a-dd00-479d-b5e6-f8e16772011d"
      },
      "execution_count": null,
      "outputs": [
        {
          "output_type": "stream",
          "name": "stdout",
          "text": [
            "Downloading http://yann.lecun.com/exdb/mnist/train-images-idx3-ubyte.gz\n",
            "Failed to download (trying next):\n",
            "HTTP Error 403: Forbidden\n",
            "\n",
            "Downloading https://ossci-datasets.s3.amazonaws.com/mnist/train-images-idx3-ubyte.gz\n",
            "Downloading https://ossci-datasets.s3.amazonaws.com/mnist/train-images-idx3-ubyte.gz to ./data/MNIST/raw/train-images-idx3-ubyte.gz\n"
          ]
        },
        {
          "output_type": "stream",
          "name": "stderr",
          "text": [
            "100%|██████████| 9.91M/9.91M [00:00<00:00, 14.6MB/s]\n"
          ]
        },
        {
          "output_type": "stream",
          "name": "stdout",
          "text": [
            "Extracting ./data/MNIST/raw/train-images-idx3-ubyte.gz to ./data/MNIST/raw\n",
            "\n",
            "Downloading http://yann.lecun.com/exdb/mnist/train-labels-idx1-ubyte.gz\n",
            "Failed to download (trying next):\n",
            "HTTP Error 403: Forbidden\n",
            "\n",
            "Downloading https://ossci-datasets.s3.amazonaws.com/mnist/train-labels-idx1-ubyte.gz\n",
            "Downloading https://ossci-datasets.s3.amazonaws.com/mnist/train-labels-idx1-ubyte.gz to ./data/MNIST/raw/train-labels-idx1-ubyte.gz\n"
          ]
        },
        {
          "output_type": "stream",
          "name": "stderr",
          "text": [
            "100%|██████████| 28.9k/28.9k [00:00<00:00, 485kB/s]\n"
          ]
        },
        {
          "output_type": "stream",
          "name": "stdout",
          "text": [
            "Extracting ./data/MNIST/raw/train-labels-idx1-ubyte.gz to ./data/MNIST/raw\n",
            "\n",
            "Downloading http://yann.lecun.com/exdb/mnist/t10k-images-idx3-ubyte.gz\n",
            "Failed to download (trying next):\n",
            "HTTP Error 403: Forbidden\n",
            "\n",
            "Downloading https://ossci-datasets.s3.amazonaws.com/mnist/t10k-images-idx3-ubyte.gz\n",
            "Downloading https://ossci-datasets.s3.amazonaws.com/mnist/t10k-images-idx3-ubyte.gz to ./data/MNIST/raw/t10k-images-idx3-ubyte.gz\n"
          ]
        },
        {
          "output_type": "stream",
          "name": "stderr",
          "text": [
            "100%|██████████| 1.65M/1.65M [00:00<00:00, 4.40MB/s]\n"
          ]
        },
        {
          "output_type": "stream",
          "name": "stdout",
          "text": [
            "Extracting ./data/MNIST/raw/t10k-images-idx3-ubyte.gz to ./data/MNIST/raw\n",
            "\n",
            "Downloading http://yann.lecun.com/exdb/mnist/t10k-labels-idx1-ubyte.gz\n",
            "Failed to download (trying next):\n",
            "HTTP Error 403: Forbidden\n",
            "\n",
            "Downloading https://ossci-datasets.s3.amazonaws.com/mnist/t10k-labels-idx1-ubyte.gz\n",
            "Downloading https://ossci-datasets.s3.amazonaws.com/mnist/t10k-labels-idx1-ubyte.gz to ./data/MNIST/raw/t10k-labels-idx1-ubyte.gz\n"
          ]
        },
        {
          "output_type": "stream",
          "name": "stderr",
          "text": [
            "100%|██████████| 4.54k/4.54k [00:00<00:00, 3.64MB/s]"
          ]
        },
        {
          "output_type": "stream",
          "name": "stdout",
          "text": [
            "Extracting ./data/MNIST/raw/t10k-labels-idx1-ubyte.gz to ./data/MNIST/raw\n",
            "\n"
          ]
        },
        {
          "output_type": "stream",
          "name": "stderr",
          "text": [
            "\n"
          ]
        }
      ]
    },
    {
      "cell_type": "markdown",
      "source": [],
      "metadata": {
        "id": "FBhumuK6DgMm"
      }
    },
    {
      "cell_type": "code",
      "source": [
        "class BoundingBoxModel(nn.Module):\n",
        "    def __init__(self):\n",
        "        super(BoundingBoxModel, self).__init__()\n",
        "        self.backbone = nn.Sequential(\n",
        "            nn.Conv2d(1, 16, kernel_size=3, stride=1, padding=1),\n",
        "            nn.ReLU(),\n",
        "            nn.MaxPool2d(2, 2),\n",
        "            nn.Conv2d(16, 32, kernel_size=3, stride=1, padding=1),\n",
        "            nn.ReLU(),\n",
        "            nn.MaxPool2d(2, 2)\n",
        "        )\n",
        "        self.fc = nn.Sequential(\n",
        "            nn.Flatten(),\n",
        "            nn.Linear(32 * 7 * 7, 128),\n",
        "            nn.ReLU(),  nn.Linear(128, 4)  # 4 outputs: [x_min, y_min, x_max, y_max]\n",
        "        )\n",
        "\n",
        "    def forward(self, x):\n",
        "        features = self.backbone(x)\n",
        "        bbox = self.fc(features)\n",
        "        return bbox\n",
        " # Initialize the model\n",
        "device = torch.device('cuda' if torch.cuda.is_available() else 'cpu')\n",
        "model = BoundingBoxModel().to(device)\n"
      ],
      "metadata": {
        "id": "Z-R-K0fHDgdw"
      },
      "execution_count": null,
      "outputs": []
    },
    {
      "cell_type": "code",
      "source": [
        "criterion = nn.MSELoss()  # Loss for bounding box regression\n",
        "optimizer = optim.Adam(model.parameters(), lr=0.001)  # Optimizer"
      ],
      "metadata": {
        "id": "2yK8rfX5DqKc"
      },
      "execution_count": null,
      "outputs": []
    },
    {
      "cell_type": "code",
      "source": [
        "epochs = 5\n",
        "for epoch in range(epochs):\n",
        "  model.train()\n",
        "  total_loss = 0\n",
        "  for imgs, _, bboxes in train_loader:\n",
        "    imgs, bboxes = imgs.to(device), bboxes.to(device)\n",
        "\n",
        "        # Forward pass\n",
        "    pred_bboxes = model(imgs)\n",
        "\n",
        "        # Compute loss\n",
        "    loss = criterion(pred_bboxes, bboxes)\n",
        "\n",
        "        # Backpropagation and optimization\n",
        "    optimizer.zero_grad()\n",
        "    loss.backward()\n",
        "    optimizer.step()\n",
        "    total_loss += loss.item()\n",
        "\n",
        "  print(f\"Epoch [{epoch+1}/{epochs}], Loss: {total_loss / len(train_loader):.4f}\")"
      ],
      "metadata": {
        "colab": {
          "base_uri": "https://localhost:8080/"
        },
        "id": "RTkevDSoDwww",
        "outputId": "5093ff10-4756-4f03-ff61-5858240d62a1"
      },
      "execution_count": null,
      "outputs": [
        {
          "output_type": "stream",
          "name": "stdout",
          "text": [
            "Epoch [1/5], Loss: 0.0012\n",
            "Epoch [2/5], Loss: 0.0003\n",
            "Epoch [3/5], Loss: 0.0002\n",
            "Epoch [4/5], Loss: 0.0002\n",
            "Epoch [5/5], Loss: 0.0001\n"
          ]
        }
      ]
    },
    {
      "cell_type": "code",
      "source": [
        "\n",
        " # Testing the Model\n",
        "model.eval()\n",
        "with torch.no_grad():\n",
        "  for imgs, _, bboxes in test_loader:\n",
        "    imgs, bboxes = imgs.to(device), bboxes.to(device)\n",
        "\n",
        "    pred_bboxes = model(imgs)\n",
        "\n",
        "        # Print the first sample's predicted and actual bounding box\n",
        "    print(\"Predicted BBox:\", pred_bboxes[0].cpu().numpy())\n",
        "    print(\"Ground Truth BBox:\", bboxes[0].cpu().numpy())\n",
        "    break\n"
      ],
      "metadata": {
        "colab": {
          "base_uri": "https://localhost:8080/"
        },
        "id": "AKsw5hx_D4He",
        "outputId": "db40cb6c-e3d0-4628-f648-ba10af99b71e"
      },
      "execution_count": null,
      "outputs": [
        {
          "output_type": "stream",
          "name": "stdout",
          "text": [
            "Predicted BBox: [0.20839053 0.26290044 0.73856413 0.92649615]\n",
            "Ground Truth BBox: [0.21428572 0.25       0.75       0.9285714 ]\n"
          ]
        }
      ]
    },
    {
      "cell_type": "code",
      "source": [
        "import matplotlib.pyplot as plt\n",
        "\n",
        "def visualize_bbox(img, bbox, pred_bbox=None):\n",
        "    \"\"\"\n",
        "    Visualize an image with its ground truth and predicted bounding boxes.\n",
        "\n",
        "    Args:\n",
        "        img (torch.Tensor): The input image (1x28x28) as a PyTorch tensor.\n",
        "        bbox (torch.Tensor or numpy.ndarray): Ground truth bounding box [x_min, y_min, x_max, y_max] normalized to [0, 1].\n",
        "        pred_bbox (torch.Tensor or numpy.ndarray, optional): Predicted bounding box [x_min, y_min, x_max, y_max] normalized to [0, 1].\n",
        "    \"\"\"\n",
        "    # Convert image to numpy for visualization\n",
        "    img = img.squeeze(0).numpy()\n",
        "\n",
        "    # Denormalize the ground truth bounding box\n",
        "    x_min, y_min, x_max, y_max = bbox * 28  # Convert normalized coordinates to pixel values\n",
        "    plt.imshow(img, cmap='gray')\n",
        "    plt.gca().add_patch(plt.Rectangle(\n",
        "        (x_min, y_min),\n",
        "        x_max - x_min,\n",
        "        y_max - y_min,\n",
        "        edgecolor='green',\n",
        "        facecolor='none',\n",
        "        lw=2,\n",
        "        label=\"Ground Truth\"\n",
        "    ))\n",
        "\n",
        "    # If a predicted bounding box is provided, denormalize and visualize it\n",
        "    if pred_bbox is not None:\n",
        "        px_min, py_min, px_max, py_max = pred_bbox * 28\n",
        "        plt.gca().add_patch(plt.Rectangle(\n",
        "            (px_min, py_min),\n",
        "            px_max - px_min,\n",
        "            py_max - py_min,\n",
        "            edgecolor='red',\n",
        "            facecolor='none',\n",
        "            lw=2,\n",
        "            label=\"Prediction\"\n",
        "        ))\n",
        "\n",
        "    # Add legend and display the image\n",
        "    plt.legend()\n",
        "    plt.title(\"Bounding Box Visualization\")\n",
        "    plt.show()\n"
      ],
      "metadata": {
        "id": "XSWD3svFFvxS"
      },
      "execution_count": null,
      "outputs": []
    },
    {
      "cell_type": "code",
      "source": [
        "# Assuming `model` is your trained model\n",
        "img, _, bbox = train_dataset[0]  # Get the first sample from the training dataset\n",
        "\n",
        "# Get model prediction (ensure the image is on the same device as the model)\n",
        "img_tensor = img.unsqueeze(0).to(device)  # Add batch dimension and move to device\n",
        "pred_bbox = model(img_tensor).cpu().detach().numpy()[0]  # Model prediction as numpy array\n",
        "\n",
        "# Visualize the bounding boxes\n",
        "visualize_bbox(img, bbox.numpy(), pred_bbox)\n"
      ],
      "metadata": {
        "colab": {
          "base_uri": "https://localhost:8080/",
          "height": 452
        },
        "id": "TqvNT2cCGN0y",
        "outputId": "4825ce7d-853c-4bd4-fb15-898294932167"
      },
      "execution_count": null,
      "outputs": [
        {
          "output_type": "display_data",
          "data": {
            "text/plain": [
              "<Figure size 640x480 with 1 Axes>"
            ],
            "image/png": "[encoded data removed]"
          },
          "metadata": {}
        }
      ]
    },
    {
      "cell_type": "code",
      "source": [],
      "metadata": {
        "id": "OWMa6RNDGRiY"
      },
      "execution_count": null,
      "outputs": []
    }
  ]
}