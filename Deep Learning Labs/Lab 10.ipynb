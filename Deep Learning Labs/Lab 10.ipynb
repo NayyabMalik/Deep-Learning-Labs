{
  "nbformat": 4,
  "nbformat_minor": 0,
  "metadata": {
    "colab": {
      "provenance": []
    },
    "kernelspec": {
      "name": "python3",
      "display_name": "Python 3"
    },
    "language_info": {
      "name": "python"
    }
  },
  "cells": [
    {
      "cell_type": "code",
      "execution_count": null,
      "metadata": {
        "id": "CHzm5yRBThUt"
      },
      "outputs": [],
      "source": [
        " import torch\n",
        " import torch.nn as nn\n",
        " import torch.optim as optim\n",
        " from torchvision import datasets, transforms\n",
        " from torch.utils.data import DataLoader\n",
        " import matplotlib.pyplot as plt"
      ]
    },
    {
      "cell_type": "code",
      "source": [
        "transform = transforms.Compose([\n",
        "    transforms.ToTensor(),\n",
        "    transforms.Normalize((0.5,), (0.5,))\n",
        " ])\n",
        "train_dataset = datasets.MNIST(root='./data', train=True, download=True, transform=transform)\n",
        "test_dataset = datasets.MNIST(root='./data', train=False, download=True, transform=transform)\n",
        "train_loader = DataLoader(train_dataset, batch_size=64, shuffle=True)\n",
        "test_loader = DataLoader(test_dataset, batch_size=64, shuffle=False)"
      ],
      "metadata": {
        "colab": {
          "base_uri": "https://localhost:8080/"
        },
        "id": "aTvxc8OTTugI",
        "outputId": "83bb42f3-bcb1-43c3-b805-902910f63506"
      },
      "execution_count": null,
      "outputs": [
        {
          "output_type": "stream",
          "name": "stdout",
          "text": [
            "Downloading http://yann.lecun.com/exdb/mnist/train-images-idx3-ubyte.gz\n",
            "Failed to download (trying next):\n",
            "HTTP Error 403: Forbidden\n",
            "\n",
            "Downloading https://ossci-datasets.s3.amazonaws.com/mnist/train-images-idx3-ubyte.gz\n",
            "Downloading https://ossci-datasets.s3.amazonaws.com/mnist/train-images-idx3-ubyte.gz to ./data/MNIST/raw/train-images-idx3-ubyte.gz\n"
          ]
        },
        {
          "output_type": "stream",
          "name": "stderr",
          "text": [
            "100%|██████████| 9.91M/9.91M [00:00<00:00, 38.0MB/s]\n"
          ]
        },
        {
          "output_type": "stream",
          "name": "stdout",
          "text": [
            "Extracting ./data/MNIST/raw/train-images-idx3-ubyte.gz to ./data/MNIST/raw\n",
            "\n",
            "Downloading http://yann.lecun.com/exdb/mnist/train-labels-idx1-ubyte.gz\n",
            "Failed to download (trying next):\n",
            "HTTP Error 403: Forbidden\n",
            "\n",
            "Downloading https://ossci-datasets.s3.amazonaws.com/mnist/train-labels-idx1-ubyte.gz\n",
            "Downloading https://ossci-datasets.s3.amazonaws.com/mnist/train-labels-idx1-ubyte.gz to ./data/MNIST/raw/train-labels-idx1-ubyte.gz\n"
          ]
        },
        {
          "output_type": "stream",
          "name": "stderr",
          "text": [
            "100%|██████████| 28.9k/28.9k [00:00<00:00, 1.41MB/s]\n"
          ]
        },
        {
          "output_type": "stream",
          "name": "stdout",
          "text": [
            "Extracting ./data/MNIST/raw/train-labels-idx1-ubyte.gz to ./data/MNIST/raw\n",
            "\n",
            "Downloading http://yann.lecun.com/exdb/mnist/t10k-images-idx3-ubyte.gz\n",
            "Failed to download (trying next):\n",
            "HTTP Error 403: Forbidden\n",
            "\n",
            "Downloading https://ossci-datasets.s3.amazonaws.com/mnist/t10k-images-idx3-ubyte.gz\n",
            "Downloading https://ossci-datasets.s3.amazonaws.com/mnist/t10k-images-idx3-ubyte.gz to ./data/MNIST/raw/t10k-images-idx3-ubyte.gz\n"
          ]
        },
        {
          "output_type": "stream",
          "name": "stderr",
          "text": [
            "100%|██████████| 1.65M/1.65M [00:00<00:00, 10.5MB/s]\n"
          ]
        },
        {
          "output_type": "stream",
          "name": "stdout",
          "text": [
            "Extracting ./data/MNIST/raw/t10k-images-idx3-ubyte.gz to ./data/MNIST/raw\n",
            "\n",
            "Downloading http://yann.lecun.com/exdb/mnist/t10k-labels-idx1-ubyte.gz\n",
            "Failed to download (trying next):\n",
            "HTTP Error 403: Forbidden\n",
            "\n",
            "Downloading https://ossci-datasets.s3.amazonaws.com/mnist/t10k-labels-idx1-ubyte.gz\n",
            "Downloading https://ossci-datasets.s3.amazonaws.com/mnist/t10k-labels-idx1-ubyte.gz to ./data/MNIST/raw/t10k-labels-idx1-ubyte.gz\n"
          ]
        },
        {
          "output_type": "stream",
          "name": "stderr",
          "text": [
            "100%|██████████| 4.54k/4.54k [00:00<00:00, 7.21MB/s]"
          ]
        },
        {
          "output_type": "stream",
          "name": "stdout",
          "text": [
            "Extracting ./data/MNIST/raw/t10k-labels-idx1-ubyte.gz to ./data/MNIST/raw\n",
            "\n"
          ]
        },
        {
          "output_type": "stream",
          "name": "stderr",
          "text": [
            "\n"
          ]
        }
      ]
    },
    {
      "cell_type": "code",
      "source": [
        "class SingleLayerEncoder(nn.Module):\n",
        "  def __init__(self, input_dim, latent_dim):\n",
        "    super(SingleLayerEncoder, self).__init__()\n",
        "    self.fc = nn.Linear(input_dim, latent_dim)  # Single fully connected layer\n",
        "  def forward(self, x):\n",
        "    return torch.relu(self.fc(x))  # Use ReLU activatio"
      ],
      "metadata": {
        "id": "o1sF1GBRTzog"
      },
      "execution_count": null,
      "outputs": []
    },
    {
      "cell_type": "code",
      "source": [
        "class SingleLayerDecoder(nn.Module):\n",
        "  def __init__(self, latent_dim, output_dim):\n",
        "    super(SingleLayerDecoder, self).__init__()\n",
        "    self.fc = nn.Linear(latent_dim, output_dim)  # Single fully connected layer\n",
        "  def forward(self, x):\n",
        "    return torch.sigmoid(self.fc(x))  # Use Sigmoid to output values in [0, 1"
      ],
      "metadata": {
        "id": "r6kH4INBT9pp"
      },
      "execution_count": null,
      "outputs": []
    },
    {
      "cell_type": "code",
      "source": [
        "def __init__(self, encoder, decoder):\n",
        "  super(SingleLayerAutoencoder, self).__init__()\n",
        "  self.encoder = encoder\n",
        "  self.decoder = decoder\n",
        "def forward(self, x):\n",
        "  latent = self.encoder(x)\n",
        "  reconstructed = self.decoder(latent)\n",
        "  return reconstructed"
      ],
      "metadata": {
        "id": "uikUdZiGUGVn"
      },
      "execution_count": null,
      "outputs": []
    },
    {
      "cell_type": "code",
      "source": [],
      "metadata": {
        "id": "FpQifPIyUP5d"
      },
      "execution_count": null,
      "outputs": []
    },
    {
      "cell_type": "code",
      "source": [],
      "metadata": {
        "id": "Es7xISSIUm23"
      },
      "execution_count": null,
      "outputs": []
    },
    {
      "source": [
        "import torch\n",
        "import torch.nn as nn\n",
        "\n",
        "class SingleLayerEncoder(nn.Module):\n",
        "  def __init__(self, input_dim, latent_dim):\n",
        "    super(SingleLayerEncoder, self).__init__()\n",
        "    self.fc = nn.Linear(input_dim, latent_dim)  # Single fully connected layer\n",
        "  def forward(self, x):\n",
        "    return torch.relu(self.fc(x))  # Use ReLU activation\n",
        "\n",
        "class SingleLayerDecoder(nn.Module):\n",
        "  def __init__(self, latent_dim, output_dim):\n",
        "    super(SingleLayerDecoder, self).__init__()\n",
        "    self.fc = nn.Linear(latent_dim, output_dim)  # Single fully connected layer\n",
        "  def forward(self, x):\n",
        "    return torch.sigmoid(self.fc(x))  # Use Sigmoid to output values in [0, 1]\n",
        "\n",
        "# Define the SingleLayerAutoencoder class\n",
        "class SingleLayerAutoencoder(nn.Module):\n",
        "  def __init__(self, encoder, decoder):\n",
        "    super(SingleLayerAutoencoder, self).__init__()\n",
        "    self.encoder = encoder\n",
        "    self.decoder = decoder\n",
        "  def forward(self, x):\n",
        "    latent = self.encoder(x)\n",
        "    reconstructed = self.decoder(latent)\n",
        "    return reconstructed\n",
        "\n",
        "input_dim = 28 * 28  # MNIST images are 28x28\n",
        "latent_dim = 64      # Dimensionality of the latent space\n",
        "\n",
        "encoder = SingleLayerEncoder(input_dim, latent_dim)\n",
        "decoder = SingleLayerDecoder(latent_dim, input_dim)\n",
        "model = SingleLayerAutoencoder(encoder, decoder).to(torch.device('cuda' if torch.cuda.is_available() else 'cpu'))"
      ],
      "cell_type": "code",
      "metadata": {
        "id": "xdzp-hO9Uo_2"
      },
      "execution_count": null,
      "outputs": []
    },
    {
      "cell_type": "code",
      "source": [
        "optimizer = optim.Adam(model.parameters(), lr=0.001)\n",
        "criterion = nn.MSELoss()  # Mean Squared Error for reconstructio"
      ],
      "metadata": {
        "id": "0uWZHkzBUpis"
      },
      "execution_count": null,
      "outputs": []
    },
    {
      "cell_type": "code",
      "source": [
        "def train(model, dataloader, optimizer, criterion, device):\n",
        "  model.train()\n",
        "  epoch_loss = 0\n",
        "  for batch in dataloader:\n",
        "      images, _ = batch\n",
        "      images = images.view(images.size(0), -1).to(device)  # Flatten images\n",
        "      optimizer.zero_grad()\n",
        "      reconstructed = model(images)\n",
        "      loss = criterion(reconstructed, images)\n",
        "      loss.backward()\n",
        "      optimizer.step()\n",
        "      epoch_loss += loss.item()\n",
        "  return epoch_loss / len(dataloader)"
      ],
      "metadata": {
        "id": "i3vGpwPcUxgH"
      },
      "execution_count": null,
      "outputs": []
    },
    {
      "cell_type": "code",
      "source": [
        "device = torch.device('cuda' if torch.cuda.is_available() else 'cpu')\n",
        "model.to(device)\n",
        "epochs = 5\n",
        "for epoch in range(epochs):\n",
        "  train_loss = train(model, train_loader, optimizer, criterion, device)\n",
        "  print(f'Epoch {epoch+1}/{epochs}, Loss: {train_loss:.4f}')"
      ],
      "metadata": {
        "colab": {
          "base_uri": "https://localhost:8080/"
        },
        "id": "xKpDNPJtU6j_",
        "outputId": "6d0915d9-4cc4-480c-8994-9dab0beac0db"
      },
      "execution_count": null,
      "outputs": [
        {
          "output_type": "stream",
          "name": "stdout",
          "text": [
            "Epoch 1/5, Loss: 0.9243\n",
            "Epoch 2/5, Loss: 0.8845\n",
            "Epoch 3/5, Loss: 0.8764\n",
            "Epoch 4/5, Loss: 0.8737\n",
            "Epoch 5/5, Loss: 0.8725\n"
          ]
        }
      ]
    },
    {
      "cell_type": "code",
      "source": [
        "def evaluate(model, dataloader, device):\n",
        "  model.eval()\n",
        "  reconstructed_images = []\n",
        "  original_images = []\n",
        "  with torch.no_grad():\n",
        "    for batch in dataloader:\n",
        "      images, _ = batch\n",
        "      images = images.view(images.size(0), -1).to(device)\n",
        "      outputs = model(images)\n",
        "      reconstructed_images.append(outputs.cpu())\n",
        "      original_images.append(images.cpu())\n",
        "  return torch.cat(original_images), torch.cat(reconstructed_images)"
      ],
      "metadata": {
        "id": "wLxyCqcNU9GQ"
      },
      "execution_count": null,
      "outputs": []
    },
    {
      "cell_type": "code",
      "source": [
        "original, reconstructed = evaluate(model, test_loader, device)\n"
      ],
      "metadata": {
        "id": "wL2cqlpXVNjs"
      },
      "execution_count": null,
      "outputs": []
    },
    {
      "cell_type": "code",
      "source": [
        "def plot_images(original, reconstructed, n=10):\n",
        "  plt.figure(figsize=(10, 2))\n",
        "  for i in range(n):\n",
        "        # Original images\n",
        "      plt.subplot(2, n, i + 1)\n",
        "      plt.imshow(original[i].view(28, 28), cmap='gray')\n",
        "      plt.axis('off')\n",
        "        # Reconstructed images\n",
        "      plt.subplot(2, n, i + 1 + n)\n",
        "      plt.imshow(reconstructed[i].view(28, 28), cmap='gray')\n",
        "      plt.axis('off')\n",
        "  plt.show()\n",
        "plot_images(original, reconstructed)"
      ],
      "metadata": {
        "colab": {
          "base_uri": "https://localhost:8080/",
          "height": 186
        },
        "id": "mwBarxqQVNmH",
        "outputId": "fa017b10-4b56-4d42-b60f-493255d2a416"
      },
      "execution_count": null,
      "outputs": [
        {
          "output_type": "display_data",
          "data": {
            "text/plain": [
              "<Figure size 1000x200 with 20 Axes>"
            ],
            "image/png": "[encoded data removed]"
          },
          "metadata": {}
        }
      ]
    },
    {
      "cell_type": "code",
      "source": [],
      "metadata": {
        "id": "izEbPQc4VNp4"
      },
      "execution_count": null,
      "outputs": []
    }
  ]
}